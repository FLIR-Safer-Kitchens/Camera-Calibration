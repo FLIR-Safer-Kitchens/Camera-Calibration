{
 "cells": [
  {
   "cell_type": "code",
   "execution_count": 17,
   "metadata": {},
   "outputs": [],
   "source": [
    "import numpy as np\n",
    "import cv2\n",
    "import os"
   ]
  },
  {
   "cell_type": "code",
   "execution_count": 56,
   "metadata": {},
   "outputs": [],
   "source": [
    "image_folder = \"./calibration_data/thermal/\"\n",
    "point_folder = \"./extracted_points/thermal/\"\n",
    "\n",
    "images = os.listdir(image_folder)\n",
    "for fname in images:\n",
    "\t# Generate image points\n",
    "\timg  = cv2.imread(os.path.join(image_folder, fname), cv2.IMREAD_UNCHANGED)\n",
    "\tgray = cv2.cvtColor(img, cv2.COLOR_RGB2GRAY)\n",
    "\n",
    "\t# gray = cv2.GaussianBlur(gray, (3,3), 1.6)\n",
    "\tdiff_x = cv2.Sobel(gray.astype(\"float64\"), -1, 1, 0)\n",
    "\tdiff_y = cv2.Sobel(gray.astype(\"float64\"), -1, 0, 1)\n",
    "\t\n",
    "\tsum_diff = cv2.add(np.square(diff_x), np.square(diff_y))\n",
    "\n",
    "\tmin_val = min(sum_diff.flatten())\n",
    "\tmax_val = max(sum_diff.flatten())\n",
    "\n",
    "\tsum_diff = cv2.multiply(cv2.subtract(sum_diff, min_val).astype(\"float64\"), 255.0/(max_val-min_val+1e-6))\n",
    "\tsum_diff = np.round(sum_diff).astype(\"uint8\")\n",
    "\n",
    "\t# sum_diff = cv2.threshold(sum_diff, 10, 255, cv2.THRESH_BINARY_INV)[1]\n",
    "\n",
    "\tcv2.namedWindow(\"img\", cv2.WINDOW_NORMAL)\n",
    "\tcv2.namedWindow(\"diff\", cv2.WINDOW_NORMAL)\n",
    "\t\n",
    "\tcv2.imshow(\"img\", gray)\n",
    "\tcv2.imshow(\"diff\", sum_diff)\n",
    "\n",
    "\twhile cv2.waitKey(0) != ord('q'): continue\n",
    "\tcv2.destroyAllWindows()"
   ]
  }
 ],
 "metadata": {
  "kernelspec": {
   "display_name": "venv",
   "language": "python",
   "name": "python3"
  },
  "language_info": {
   "codemirror_mode": {
    "name": "ipython",
    "version": 3
   },
   "file_extension": ".py",
   "mimetype": "text/x-python",
   "name": "python",
   "nbconvert_exporter": "python",
   "pygments_lexer": "ipython3",
   "version": "3.11.7"
  }
 },
 "nbformat": 4,
 "nbformat_minor": 2
}
