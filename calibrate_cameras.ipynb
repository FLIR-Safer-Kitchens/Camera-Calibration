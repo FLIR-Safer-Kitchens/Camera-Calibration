{
 "cells": [
  {
   "cell_type": "code",
   "execution_count": 1,
   "metadata": {},
   "outputs": [],
   "source": [
    "import numpy as np\n",
    "import json\n",
    "import cv2\n",
    "import os"
   ]
  },
  {
   "cell_type": "code",
   "execution_count": 18,
   "metadata": {},
   "outputs": [],
   "source": [
    "# Prepare object points for 30mm grid\n",
    "objp = np.zeros((5*7,3), np.float32)\n",
    "# objp[:,:2] = np.mgrid[0:7,0:5].T.reshape(-1,2)\n",
    "\n",
    "objp[:,:2] = np.mgrid[0:5,0:7].T.reshape(-1,2)\n",
    "\n",
    "# objp"
   ]
  },
  {
   "cell_type": "code",
   "execution_count": 19,
   "metadata": {},
   "outputs": [
    {
     "name": "stdout",
     "output_type": "stream",
     "text": [
      "True\n",
      "True\n",
      "True\n",
      "True\n",
      "True\n",
      "True\n",
      "True\n",
      "True\n",
      "True\n"
     ]
    }
   ],
   "source": [
    "image_folder = \"./calibration_data/visible/\"\n",
    "point_folder = \"./extracted_points/visible/\"\n",
    "\n",
    "# image_folder = \"./calibration_data/thermal/\"\n",
    "# point_folder = \"./extracted_points/thermal/\"\n",
    "\n",
    "# image_folder = \"./calibration_data/thermal_dots_binary/\"\n",
    "# point_folder = \"./extracted_points/thermal_dots/\"\n",
    "\n",
    "objpoints = []\n",
    "imgpoints = []\n",
    "image_size = None\n",
    "\n",
    "images = os.listdir(image_folder)\n",
    "for fname in images:\n",
    "\t# Generate image points\n",
    "\tgray = cv2.imread(os.path.join(image_folder, fname), cv2.IMREAD_GRAYSCALE)\n",
    "\n",
    "\t# Set blob detector parameters\n",
    "\tparams = cv2.SimpleBlobDetector_Params()\n",
    "\tparams.filterByCircularity = False\n",
    "\tparams.filterByConvexity = False\n",
    "\tparams.filterByInertia = False\n",
    "\tparams.filterByArea = True\n",
    "\tparams.minArea = 4\n",
    "\n",
    "\t# Create a detector with the parameters\n",
    "\tver = (cv2.__version__).split('.')\n",
    "\tif int(ver[0]) < 3 : detector = cv2.SimpleBlobDetector(params)\n",
    "\telse : detector = cv2.SimpleBlobDetector_create(params)\n",
    "\n",
    "\t# Find Corners\n",
    "\tret = False\n",
    "\t# ret, corners = cv2.findCirclesGrid(gray, (7, 5), None, blobDetector=detector)\n",
    "\tret, corners = cv2.findChessboardCorners(gray, (5,7), None)\n",
    "\tprint(ret)\n",
    "\t\n",
    "\t# Draw corners\n",
    "\tout = cv2.drawChessboardCorners(cv2.cvtColor(gray, cv2.COLOR_GRAY2BGR), (7, 5), corners, ret)\n",
    "\tcv2.namedWindow(\"img\", cv2.WINDOW_NORMAL)\n",
    "\tcv2.imshow(\"img\", out)\n",
    "\twhile cv2.waitKey(0) != ord('q'): continue\n",
    "\tcv2.destroyAllWindows()\n",
    "\n",
    "\t# Save image points\n",
    "\tif ret:\n",
    "\t\tpoints = corners\n",
    "\t\tcriteria = (cv2.TERM_CRITERIA_EPS + cv2.TERM_CRITERIA_MAX_ITER, 30, 0.001)\n",
    "\t\tpoints = cv2.cornerSubPix(gray, corners, (11,11), (-1,-1), criteria)\n",
    "\n",
    "\telse:\n",
    "\t\tname = fname.split(\".\")[0]\n",
    "\t\tpoints = np.loadtxt(os.path.join(point_folder, f\"{name}.csv\"), delimiter=\",\", dtype=float)\n",
    "\t\tpoints = np.array([np.array(p) for p in points]).astype('float32')\n",
    "\n",
    "\timgpoints.append(points)\n",
    "\n",
    "\t# Save object points\n",
    "\tobjpoints.append(objp)"
   ]
  },
  {
   "cell_type": "code",
   "execution_count": 27,
   "metadata": {},
   "outputs": [],
   "source": [
    "# Compute parameters\n",
    "h, w = gray.shape[:2]\n",
    "vals = cv2.calibrateCamera(objpoints, imgpoints, (w,h), None, None)\n",
    "keys = (\"ret\", \"mtx\", \"dist\", \"rvecs\", \"tvecs\")\n",
    "\n",
    "params = dict(zip(keys, vals))\n",
    "del params[\"rvecs\"]\n",
    "del params[\"tvecs\"]"
   ]
  },
  {
   "cell_type": "code",
   "execution_count": 28,
   "metadata": {},
   "outputs": [
    {
     "data": {
      "text/plain": [
       "{'ret': 0.18752077616544316,\n",
       " 'mtx': array([[524.36570593,   0.        , 322.57309627],\n",
       "        [  0.        , 525.87381374, 242.91852868],\n",
       "        [  0.        ,   0.        ,   1.        ]]),\n",
       " 'dist': array([[ 0.21235806, -0.47267247, -0.00106177, -0.00123414,  0.28311425]]),\n",
       " 'newcameramtx': array([[534.82815439,   0.        , 321.82941307],\n",
       "        [  0.        , 536.09892081, 242.44036121],\n",
       "        [  0.        ,   0.        ,   1.        ]]),\n",
       " 'roi': (3, 2, 634, 474)}"
      ]
     },
     "execution_count": 28,
     "metadata": {},
     "output_type": "execute_result"
    }
   ],
   "source": [
    "# Compute new camera matrix\n",
    "vals = cv2.getOptimalNewCameraMatrix(params[\"mtx\"], params[\"dist\"], (w,h), 1, (w,h))\n",
    "keys = (\"newcameramtx\", \"roi\")\n",
    "\n",
    "params.update(dict(zip(keys, vals)))\n",
    "params"
   ]
  },
  {
   "cell_type": "code",
   "execution_count": 29,
   "metadata": {},
   "outputs": [],
   "source": [
    "# Test Undistort\n",
    "cv2.namedWindow(\"img\", cv2.WINDOW_NORMAL)\n",
    "\n",
    "images = os.listdir(image_folder)\n",
    "for fname in images:\n",
    "\t# Load image\n",
    "\timg = cv2.imread(os.path.join(image_folder, fname), cv2.IMREAD_UNCHANGED)\n",
    "\n",
    "\t# Undistort\n",
    "\timg = cv2.undistort(img, params[\"mtx\"], params[\"dist\"], None, params[\"newcameramtx\"])\n",
    "\n",
    "\t# Crop the image\n",
    "\tx, y, w, h = params[\"roi\"]\n",
    "\timg = img[y:y+h, x:x+w]\n",
    "\n",
    "\t# Show image\n",
    "\tcv2.imshow(\"img\", img)\n",
    "\twhile cv2.waitKey(0) != ord('q'): continue\n",
    "\n",
    "cv2.destroyAllWindows()"
   ]
  },
  {
   "cell_type": "code",
   "execution_count": 30,
   "metadata": {},
   "outputs": [
    {
     "name": "stdout",
     "output_type": "stream",
     "text": [
      "{'ret': 0.18752077616544316, 'mtx': [[524.365705929502, 0.0, 322.57309626948467], [0.0, 525.8738137402916, 242.91852868340916], [0.0, 0.0, 1.0]], 'dist': [[0.21235806220663594, -0.4726724653162688, -0.0010617699345519614, -0.0012341367248378263, 0.2831142450597614]], 'newcameramtx': [[534.828154385763, 0.0, 321.8294130720405], [0.0, 536.0989208132096, 242.4403612135718], [0.0, 0.0, 1.0]], 'roi': [3, 2, 634, 474]}\n"
     ]
    }
   ],
   "source": [
    "# Check if object is iterable\n",
    "def is_iter(obj):\n",
    "\ttry: iter(obj)\n",
    "\texcept: return False\n",
    "\treturn True\n",
    "\n",
    "# Convert iterables to lists\n",
    "def recursive_convert(some_iter):\n",
    "\t# Convert parent elements\n",
    "\tif type(some_iter) == np.ndarray:\n",
    "\t\tsome_iter = some_iter.tolist()\n",
    "\telse: some_iter = list(some_iter)\n",
    "\n",
    "\t# Convert child elements\n",
    "\tfor idx, elem in enumerate(some_iter):\n",
    "\t\tif is_iter(elem):\n",
    "\t\t\tsome_iter[idx] = recursive_convert(elem)\n",
    "\t\n",
    "\treturn some_iter\n",
    "\n",
    "# Convert numpy arrays to python arrays\n",
    "for k in params:\n",
    "\tif is_iter(params[k]):\n",
    "\t\tparams[k] = recursive_convert(params[k])\n",
    "\n",
    "print(params)\n",
    "\n",
    "# Save calibration parameters to JSON\n",
    "with open(\"visible_params.json\", \"w\") as f:\n",
    "\tjson.dump(params, f, indent=\"\\t\")\n",
    "\tf.close()"
   ]
  }
 ],
 "metadata": {
  "kernelspec": {
   "display_name": "venv",
   "language": "python",
   "name": "python3"
  },
  "language_info": {
   "codemirror_mode": {
    "name": "ipython",
    "version": 3
   },
   "file_extension": ".py",
   "mimetype": "text/x-python",
   "name": "python",
   "nbconvert_exporter": "python",
   "pygments_lexer": "ipython3",
   "version": "3.11.7"
  }
 },
 "nbformat": 4,
 "nbformat_minor": 2
}
