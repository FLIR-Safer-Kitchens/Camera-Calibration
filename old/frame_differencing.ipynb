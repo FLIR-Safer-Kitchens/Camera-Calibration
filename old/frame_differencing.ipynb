{
 "cells": [
  {
   "cell_type": "code",
   "execution_count": 1,
   "metadata": {},
   "outputs": [],
   "source": [
    "from LeptonUtils import *\n",
    "import time\n",
    "import cv2"
   ]
  },
  {
   "cell_type": "code",
   "execution_count": 2,
   "metadata": {},
   "outputs": [],
   "source": [
    "def frame_diff(new_img, running_avg, alpha=0.1):\n",
    "    # Difference\n",
    "    out = cv2.absdiff(new_img, running_avg)\n",
    "\n",
    "    # Add to average\n",
    "    running_avg = cv2.addWeighted(running_avg, 1-alpha, new_img, alpha, 0)\n",
    "\n",
    "    return out, running_avg"
   ]
  },
  {
   "cell_type": "code",
   "execution_count": 3,
   "metadata": {},
   "outputs": [],
   "source": [
    "# backSub = cv2.createBackgroundSubtractorMOG2(varThreshold=80, detectShadows=False)\n",
    "backSub = cv2.createBackgroundSubtractorKNN(history=1000, dist2Threshold=800, detectShadows=False)\n",
    "kernel = cv2.getStructuringElement(cv2.MORPH_RECT, (2,4))"
   ]
  },
  {
   "cell_type": "code",
   "execution_count": 11,
   "metadata": {},
   "outputs": [
    {
     "name": "stdout",
     "output_type": "stream",
     "text": [
      "uint16\n"
     ]
    }
   ],
   "source": [
    "cv2.namedWindow(\"bg\", cv2.WINDOW_NORMAL)\n",
    "cv2.namedWindow(\"delta\", cv2.WINDOW_NORMAL)\n",
    "\n",
    "vid = Raw16Video(\"vids/Lepton_Capture_5.tiff\")\n",
    "ret, first_frame = vid.read()\n",
    "print(first_frame.dtype)\n",
    "\n",
    "# first_frame = clip_norm(first_frame, temp2raw(22), temp2raw(24))\n",
    "\n",
    "# Create video writer object to save processed video\n",
    "video_writer = cv2.VideoWriter(\n",
    "    filename=f\"./out/rec_{int(time.time())}.mp4\",\n",
    "    apiPreference=cv2.CAP_FFMPEG,\n",
    "    fourcc=cv2.VideoWriter_fourcc(*'XVID'),\n",
    "    fps=8.0,\n",
    "    frameSize=(160, 120),\n",
    "    params=[\n",
    "        cv2.VIDEOWRITER_PROP_IS_COLOR, 0\n",
    "    ],\n",
    ")\n",
    "assert video_writer.isOpened()\n",
    "\n",
    "cv2.undistort()\n",
    "\n",
    "while cv2.waitKey(1) & 0xFF != ord('q'):\n",
    "    ret, frame = vid.read()\n",
    "    if not ret: break\n",
    "    cv2.imshow(\"bg\", clip_norm(frame, temp2raw(25.5), temp2raw(27)))\n",
    "\n",
    "    # subtracted = backSub.apply(frame)\n",
    "    frame = cv2.medianBlur(frame, 3)\n",
    "    # frame = clip_norm(frame, temp2raw(22), temp2raw(24))\n",
    "    frame, first_frame = frame_diff(frame, first_frame, 0.2)\n",
    "\n",
    "    frame = clip_norm(frame, min_val=20)\n",
    "    \n",
    "    # frame = cv2.threshold(frame, 5, 2**16, cv2.THRESH_BINARY)[1]\n",
    "    # frame = cv2.morphologyEx(frame, cv2.MORPH_OPEN, kernel)\n",
    "\n",
    "    time.sleep(1/10)\n",
    "    cv2.imshow(\"delta\", frame)\n",
    "    video_writer.write(frame)\n",
    "\n",
    "video_writer.release()\n",
    "cv2.destroyAllWindows()"
   ]
  }
 ],
 "metadata": {
  "kernelspec": {
   "display_name": "venv",
   "language": "python",
   "name": "python3"
  },
  "language_info": {
   "codemirror_mode": {
    "name": "ipython",
    "version": 3
   },
   "file_extension": ".py",
   "mimetype": "text/x-python",
   "name": "python",
   "nbconvert_exporter": "python",
   "pygments_lexer": "ipython3",
   "version": "3.9.1"
  },
  "orig_nbformat": 4
 },
 "nbformat": 4,
 "nbformat_minor": 2
}
