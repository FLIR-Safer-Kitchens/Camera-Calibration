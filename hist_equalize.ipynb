{
 "cells": [
  {
   "attachments": {},
   "cell_type": "markdown",
   "metadata": {},
   "source": [
    "# Histogram Equalization\n",
    "\n",
    "Load raw video and apply histogram equalization to improve contrast"
   ]
  },
  {
   "cell_type": "code",
   "execution_count": 1,
   "metadata": {},
   "outputs": [],
   "source": [
    "from LeptonUtils import *\n",
    "import numpy as np\n",
    "import time\n",
    "import cv2"
   ]
  },
  {
   "cell_type": "code",
   "execution_count": 3,
   "metadata": {},
   "outputs": [],
   "source": [
    "# Convert BGR imgage to 1-channel, 16-bit image\n",
    "# (B, G, R) = [upper byte, lower byte, 0]\n",
    "def bgr2raw16(bgr_frame):\n",
    "    return np.left_shift((bgr_frame[:,:,0].astype(\"uint16\")), 8) + (bgr_frame[:,:,1].astype(\"uint16\"))"
   ]
  },
  {
   "cell_type": "code",
   "execution_count": 42,
   "metadata": {},
   "outputs": [],
   "source": [
    "# ===== Set Temp. Range (Celsius) =====\n",
    "min_temp = f2c(62)\n",
    "max_temp = f2c(67)"
   ]
  },
  {
   "cell_type": "code",
   "execution_count": 1,
   "metadata": {},
   "outputs": [
    {
     "ename": "NameError",
     "evalue": "name 'Raw16Video' is not defined",
     "output_type": "error",
     "traceback": [
      "\u001b[1;31m---------------------------------------------------------------------------\u001b[0m",
      "\u001b[1;31mNameError\u001b[0m                                 Traceback (most recent call last)",
      "Cell \u001b[1;32mIn[1], line 9\u001b[0m\n\u001b[0;32m      1\u001b[0m \u001b[39m# Load video (BGR encoding)\u001b[39;00m\n\u001b[0;32m      2\u001b[0m \u001b[39m# video_capture = cv2.VideoCapture(\u001b[39;00m\n\u001b[0;32m      3\u001b[0m \u001b[39m#     filename=\"vids/gas_on.mkv\",\u001b[39;00m\n\u001b[1;32m   (...)\u001b[0m\n\u001b[0;32m      7\u001b[0m \n\u001b[0;32m      8\u001b[0m \u001b[39m# Load video (.tiff)\u001b[39;00m\n\u001b[1;32m----> 9\u001b[0m video_capture \u001b[39m=\u001b[39m Raw16Video(\u001b[39m\"\u001b[39m\u001b[39m./vids/Shiny_Facing_Cam.tiff\u001b[39m\u001b[39m\"\u001b[39m)\n\u001b[0;32m     11\u001b[0m \u001b[39m# Create video writer object to save processed video\u001b[39;00m\n\u001b[0;32m     12\u001b[0m video_writer \u001b[39m=\u001b[39m cv2\u001b[39m.\u001b[39mVideoWriter(\n\u001b[0;32m     13\u001b[0m     filename\u001b[39m=\u001b[39m\u001b[39mf\u001b[39m\u001b[39m\"\u001b[39m\u001b[39m./out/rec_\u001b[39m\u001b[39m{\u001b[39;00m\u001b[39mint\u001b[39m(time\u001b[39m.\u001b[39mtime())\u001b[39m}\u001b[39;00m\u001b[39m.mp4\u001b[39m\u001b[39m\"\u001b[39m,\n\u001b[0;32m     14\u001b[0m     apiPreference\u001b[39m=\u001b[39mcv2\u001b[39m.\u001b[39mCAP_FFMPEG,\n\u001b[1;32m   (...)\u001b[0m\n\u001b[0;32m     20\u001b[0m     ],\n\u001b[0;32m     21\u001b[0m )\n",
      "\u001b[1;31mNameError\u001b[0m: name 'Raw16Video' is not defined"
     ]
    }
   ],
   "source": [
    "# Load video (BGR encoding)\n",
    "# video_capture = cv2.VideoCapture(\n",
    "#     filename=\"vids/gas_on.mkv\",\n",
    "#     apiPreference=cv2.CAP_FFMPEG\n",
    "# )\n",
    "# assert video_capture.isOpened(), \"Error reading video file\"\n",
    "\n",
    "# Load video (.tiff)\n",
    "video_capture = Raw16Video(\"./vids/Shiny_Facing_Cam.tiff\")\n",
    "\n",
    "# Create video writer object to save processed video\n",
    "video_writer = cv2.VideoWriter(\n",
    "    filename=f\"./out/rec_{int(time.time())}.mp4\",\n",
    "    apiPreference=cv2.CAP_FFMPEG,\n",
    "    fourcc=cv2.VideoWriter_fourcc(*'XVID'),\n",
    "    fps=8.0,\n",
    "    frameSize=(160, 120),\n",
    "    params=[\n",
    "        cv2.VIDEOWRITER_PROP_IS_COLOR, 0\n",
    "    ],\n",
    ")\n",
    "assert video_writer.isOpened()\n",
    "\n",
    "# Display processed video and save frames to file\n",
    "cv2.namedWindow(\"recording\", cv2.WINDOW_NORMAL)\n",
    "while cv2.waitKey(1) & 0xFF != ord('q'):\n",
    "    start = time.time()\n",
    "    \n",
    "    # Grab frame\n",
    "    ret, frame = video_capture.read()\n",
    "    if not ret: break\n",
    "\n",
    "    # Process frame\n",
    "    # frame = bgr2raw16(frame)\n",
    "    frame = clip_norm(frame, temp2raw(min_temp), temp2raw(max_temp))\n",
    "    # frame = hist_equalize(frame, True)\n",
    "\n",
    "    # Append frame to video\n",
    "    video_writer.write(frame)\n",
    "    cv2.imshow('recording', frame)\n",
    "\n",
    "    # Pause video\n",
    "    if cv2.waitKey(1) & 0xFF == ord('p'):\n",
    "        time.sleep(1)\n",
    "        cv2.imwrite(\"frame.tiff\", frame) \n",
    "        while cv2.waitKey(1) & 0xFF != ord('p'): time.sleep(0.1)\n",
    "    else:\n",
    "        # Play frames at original fps\n",
    "        time.sleep(max(0, 1/8-(time.time()-start))) \n",
    "\n",
    "video_writer.release()\n",
    "cv2.destroyAllWindows()"
   ]
  }
 ],
 "metadata": {
  "kernelspec": {
   "display_name": "venv",
   "language": "python",
   "name": "python3"
  },
  "language_info": {
   "codemirror_mode": {
    "name": "ipython",
    "version": 3
   },
   "file_extension": ".py",
   "mimetype": "text/x-python",
   "name": "python",
   "nbconvert_exporter": "python",
   "pygments_lexer": "ipython3",
   "version": "3.9.1"
  },
  "orig_nbformat": 4
 },
 "nbformat": 4,
 "nbformat_minor": 2
}
