{
 "cells": [
  {
   "cell_type": "code",
   "execution_count": 1,
   "metadata": {},
   "outputs": [],
   "source": [
    "from LeptonUtils import *\n",
    "import time\n",
    "import cv2\n",
    "import os"
   ]
  },
  {
   "cell_type": "code",
   "execution_count": 2,
   "metadata": {},
   "outputs": [],
   "source": [
    "# Process video\n",
    "vid = Raw16Video(\"./vids/Lepton_Capture_6.tiff\")\n",
    "cv2.namedWindow(\"frame\", cv2.WINDOW_NORMAL)\n",
    "dw = LeptonDewarp()\n",
    "    \n",
    "\n",
    "while cv2.waitKey(1) & 0xFF != ord('q'):\n",
    "    ret, raw = vid.read()\n",
    "    if not ret: break\n",
    "\n",
    "    frame = clip_norm(raw)\n",
    "    # frame = hist_equalize(frame, True)\n",
    "    # frame = cv2.medianBlur(frame, 3)\n",
    "\n",
    "    # frame = cv2.Sobel(frame, -1, 0, 1)\n",
    "    frame = dw.dewarp(frame)\n",
    "    cv2.imshow(\"frame\", frame)\n",
    "\n",
    "    if cv2.waitKey(100) == ord(\"s\"): cv2.imwrite(f\"./snapshots/save_{int(time.time())}.tiff\", raw)\n",
    "    time.sleep(0.1)\n",
    "\n",
    "cv2.destroyAllWindows()"
   ]
  },
  {
   "cell_type": "code",
   "execution_count": 2,
   "metadata": {},
   "outputs": [
    {
     "name": "stdout",
     "output_type": "stream",
     "text": [
      "save_1702963133.tiff\n",
      "save_1702963153.tiff\n",
      "save_1702963178.tiff\n",
      "save_1702963188.tiff\n",
      "save_1702963199.tiff\n",
      "save_1702963207.tiff\n",
      "save_1702963220.tiff\n",
      "save_1702963228.tiff\n",
      "save_1702963233.tiff\n",
      "save_1702963251.tiff\n",
      "save_1702964099.tiff\n",
      "save_1702964117.tiff\n"
     ]
    }
   ],
   "source": [
    "# Go through photos\n",
    "dir_contents = os.listdir(\"./snapshots/\")\n",
    "tiff_files = [f for f in dir_contents if os.path.splitext(f)[-1] == '.tiff']\n",
    "\n",
    "cv2.namedWindow(\"frame\", cv2.WINDOW_NORMAL)\n",
    "for i, f in enumerate(tiff_files):\n",
    "    print(f)\n",
    "    img = cv2.imread(os.path.join(\"./snapshots/\", f), cv2.IMREAD_UNCHANGED)\n",
    "    img = clip_norm(img)\n",
    "    dw = LeptonDewarp()\n",
    "    img = dw.dewarp(img, False)\n",
    "\n",
    "    cv2.imshow(\"frame\", img)\n",
    "    cv2.waitKey(-1)\n",
    "\n",
    "cv2.destroyAllWindows()"
   ]
  },
  {
   "cell_type": "code",
   "execution_count": 144,
   "metadata": {},
   "outputs": [],
   "source": [
    "# Load photo\n",
    "pic = cv2.imread(\"./snapshots/save_1702963220.tiff\", cv2.IMREAD_UNCHANGED)\n",
    "frame = clip_norm(pic)"
   ]
  },
  {
   "cell_type": "code",
   "execution_count": 145,
   "metadata": {},
   "outputs": [],
   "source": [
    "# Find the chess board corners\n",
    "ret, corners = cv2.findChessboardCorners(frame, (6, 4), None)\n",
    "\n",
    "# If found, add object points, image points (after refining them)\n",
    "if ret == True:\n",
    "    # objpoints.append(objp)\n",
    "    criteria = (cv2.TERM_CRITERIA_EPS + cv2.TERM_CRITERIA_MAX_ITER, 30, 0.001)\n",
    "    corners2 = cv2.cornerSubPix(frame, corners, (11,11), (-1,-1), criteria)\n",
    "    # imgpoints.append(corners2)\n",
    "    \n",
    "    # Draw and display the corners\n",
    "    cv2.drawChessboardCorners(frame, (6, 4), corners2, ret)\n",
    "else:\n",
    "    print(\"Returned false\")"
   ]
  },
  {
   "cell_type": "code",
   "execution_count": 146,
   "metadata": {},
   "outputs": [],
   "source": [
    "# Show image\n",
    "cv2.namedWindow(\"frame\", cv2.WINDOW_NORMAL)\n",
    "cv2.imshow(\"frame\", frame)\n",
    "while cv2.waitKey(1) & 0xFF != ord('q'): continue\n",
    "cv2.destroyAllWindows()"
   ]
  },
  {
   "cell_type": "code",
   "execution_count": 76,
   "metadata": {},
   "outputs": [
    {
     "data": {
      "text/plain": [
       "True"
      ]
     },
     "execution_count": 76,
     "metadata": {},
     "output_type": "execute_result"
    }
   ],
   "source": [
    "# Save image\n",
    "cv2.imwrite(\"./out/cap3.png\", frame)"
   ]
  }
 ],
 "metadata": {
  "kernelspec": {
   "display_name": "Python 3",
   "language": "python",
   "name": "python3"
  },
  "language_info": {
   "codemirror_mode": {
    "name": "ipython",
    "version": 3
   },
   "file_extension": ".py",
   "mimetype": "text/x-python",
   "name": "python",
   "nbconvert_exporter": "python",
   "pygments_lexer": "ipython3",
   "version": "3.9.1"
  },
  "orig_nbformat": 4
 },
 "nbformat": 4,
 "nbformat_minor": 2
}
